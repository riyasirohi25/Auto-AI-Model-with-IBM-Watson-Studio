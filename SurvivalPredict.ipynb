{
  "nbformat": 4,
  "nbformat_minor": 0,
  "metadata": {
    "colab": {
      "provenance": [],
      "authorship_tag": "ABX9TyMdLf3n7kjx+zQOacaUy1Ol",
      "include_colab_link": true
    },
    "kernelspec": {
      "name": "python3",
      "display_name": "Python 3"
    },
    "language_info": {
      "name": "python"
    }
  },
  "cells": [
    {
      "cell_type": "markdown",
      "metadata": {
        "id": "view-in-github",
        "colab_type": "text"
      },
      "source": [
        "<a href=\"https://colab.research.google.com/github/riyasirohi25/Auto-AI-Model-with-IBM-Watson-Studio/blob/main/SurvivalPredict.ipynb\" target=\"_parent\"><img src=\"https://colab.research.google.com/assets/colab-badge.svg\" alt=\"Open In Colab\"/></a>"
      ]
    },
    {
      "cell_type": "code",
      "execution_count": 1,
      "metadata": {
        "colab": {
          "base_uri": "https://localhost:8080/"
        },
        "id": "hGk6Vcy1ci5j",
        "outputId": "109f6b31-0306-4bfe-e0e1-e683f982e6e0"
      },
      "outputs": [
        {
          "output_type": "stream",
          "name": "stdout",
          "text": [
            "Scoring response\n",
            "{'predictions': [{'fields': ['prediction', 'probability'], 'values': [[0.0, [0.9739395380020142, 0.026060473173856735]], [1.0, [0.008990287780761719, 0.9910097122192383]], [1.0, [0.01665043830871582, 0.9833495616912842]], [1.0, [0.013562440872192383, 0.9864375591278076]], [1.0, [0.03192490339279175, 0.9680750966072083]], [1.0, [0.26082032918930054, 0.7391796708106995]], [1.0, [0.032981038093566895, 0.9670189619064331]], [0.0, [0.9293600916862488, 0.07063989341259003]], [0.0, [0.9236632585525513, 0.07633676379919052]], [1.0, [0.007403910160064697, 0.9925960898399353]]]}]}\n"
          ]
        }
      ],
      "source": [
        "import requests\n",
        "\n",
        "# NOTE: you must manually set API_KEY below using information retrieved from your IBM Cloud account (https://eu-de.dataplatform.cloud.ibm.com/docs/content/wsj/analyze-data/ml-authentication.html?context=cpdaas)\n",
        "API_KEY = \"LCvsSAaGKywAw2w-JYtRfAv2Ca6SKehcbzMnvzk06Iig\"\n",
        "token_response = requests.post('https://iam.cloud.ibm.com/identity/token', data={\"apikey\": API_KEY, \"grant_type\": 'urn:ibm:params:oauth:grant-type:apikey'})\n",
        "mltoken = token_response.json()[\"access_token\"]\n",
        "\n",
        "header = {'Content-Type': 'application/json', 'Authorization': 'Bearer ' + mltoken}\n",
        "\n",
        "# NOTE:  manually define and pass the array(s) of values to be scored in the next line\n",
        "payload_scoring = {\"input_data\": [\n",
        "\t{\n",
        "\t\t\"fields\": [\"PassengerId\",\"Pclass\",\"Name\",\"Sex\",\"Age\",\"SibSp\",\"Parch\",\"Ticket\",\"Fare\",\"Cabin\",\"Embarked\"],\n",
        "\t\t\"values\": [\n",
        "    [1270, 1, 'Hipkins, Mr. William Edward', 'male', 55.0, 0, 0, '680', 50.0, 'C39', 'S'],\n",
        "    [904, 1, 'Snyder, Mrs. John Pillsbury (Nelle Stevenson)', 'female', 23.0, 1, 0, '21228', 82.2667, 'B45', 'S'],\n",
        "    [1006, 1, 'Straus, Mrs. Isidor (Rosalie Ida Blun)', 'female', 63.0, 1, 0, 'PC 17483', 221.7792, 'C55 C57', 'S'],\n",
        "    [988, 1, 'Cavendish, Mrs. Tyrell William (Julia Florence Siegel)', 'female', 76.0, 1, 0, '19877', 78.85, 'C46', 'S'],\n",
        "    [951, 1, 'Chaudanson, Miss. Victorine', 'female', 36.0, 0, 0, 'PC 17608', 262.375, 'B61', 'C'],\n",
        "    [1227, 1, 'Maguire, Mr. John Edward', 'male', 30.0, 0, 0, '110469', 26.0, 'C106', 'S'],\n",
        "    [945, 1, 'Fortune, Miss. Ethel Flora', 'female', 28.0, 3, 2, '19950', 263.0, 'C23 C25 C27', 'S'],\n",
        "    [967, 1, 'Keeping, Mr. Edwin', 'male', 32.5, 0, 0, '113503', 211.5, 'C132', 'C'],\n",
        "    [920, 1, 'Brady, Mr. John Bertram', 'male', 41.0, 0, 0, '113054', 30.5, 'A21', 'S'],\n",
        "    [1235, 1, 'Cardeza, Mrs. James Warburton Martinez (Charlotte Wardle Drake)', 'female', 58.0, 0, 1, 'PC 17755', 512.3292, 'B51 B53 B55', 'C']\n",
        "]\n",
        "}\n",
        "]}\n",
        "\n",
        "response_scoring = requests.post('https://eu-de.ml.cloud.ibm.com/ml/v4/deployments/e6da7bc0-1817-48c7-89e8-8f079d6cdf58/predictions?version=2021-05-01', json=payload_scoring,\n",
        " headers={'Authorization': 'Bearer ' + mltoken})\n",
        "\n",
        "print(\"Scoring response\")\n",
        "try:\n",
        "    print(response_scoring.json())\n",
        "except ValueError:\n",
        "    print(response_scoring.text)\n",
        "except Exception as e:\n",
        "    print(f\"An unexpected error occurred: {e}\")"
      ]
    },
    {
      "cell_type": "code",
      "source": [],
      "metadata": {
        "id": "cHAM-TLNf0do"
      },
      "execution_count": null,
      "outputs": []
    }
  ]
}